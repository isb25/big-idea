{
 "cells": [
  {
   "cell_type": "code",
   "execution_count": 6,
   "metadata": {},
   "outputs": [
    {
     "name": "stdin",
     "output_type": "stream",
     "text": [
      "Enter your name:  Ishaan\n",
      "Enter your age?  99\n"
     ]
    },
    {
     "name": "stdout",
     "output_type": "stream",
     "text": [
      "Ishaan , you are an adult\n"
     ]
    }
   ],
   "source": [
    "name = input(\"Enter your name: \")\n",
    "age = input(\"Enter your age? \")\n",
    "inputErrorStr = \"Invalid input.\"\n",
    "try:\n",
    "    age = int(age)\n",
    "    if(1 < age < 3):\n",
    "        print(name,\", you are a toddler\")\n",
    "    elif(3 < age < 12):\n",
    "        print(name,\", you are a young kid\")\n",
    "    elif(12 < age < 18):\n",
    "        print(name,\", you are a teenager\")\n",
    "    elif(18 < age < 21):\n",
    "        print(name,\", you are an adult\")\n",
    "    elif(age > 100):\n",
    "        print(name, \"Tell me your secret, how do live long?\")\n",
    "    else:\n",
    "        print(name,\", you are an adult\")\n",
    "\n",
    "except:\n",
    "    print(inputErrorStr)\n",
    "\n",
    "    "
   ]
  },
  {
   "cell_type": "code",
   "execution_count": null,
   "metadata": {},
   "outputs": [],
   "source": []
  }
 ],
 "metadata": {
  "kernelspec": {
   "display_name": "Python 3",
   "language": "python",
   "name": "python3"
  },
  "language_info": {
   "codemirror_mode": {
    "name": "ipython",
    "version": 3
   },
   "file_extension": ".py",
   "mimetype": "text/x-python",
   "name": "python",
   "nbconvert_exporter": "python",
   "pygments_lexer": "ipython3",
   "version": "3.6.7"
  }
 },
 "nbformat": 4,
 "nbformat_minor": 4
}
